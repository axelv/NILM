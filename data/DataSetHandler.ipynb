{
 "cells": [
  {
   "cell_type": "code",
   "execution_count": 6,
   "metadata": {
    "collapsed": false,
    "nbpresent": {
     "id": "fb206609-e4e8-4720-a8fd-374c81319da1"
    }
   },
   "outputs": [],
   "source": [
    "import sys\n",
    "import numpy as np\n",
    "import subprocess as sp\n",
    "%matplotlib inline\n",
    "\n",
    "class DataSetHandler:\n",
    "    BLUED = 0\n",
    "    PLAID = 1\n",
    "    \n",
    "    def __init__(self, type):\n",
    "        self.dataset = type\n",
    "        \n",
    "    def read_data(self, path,ids, progress=False, last_offset=0):\n",
    "        '''read data given a list of ids and CSV paths'''\n",
    "        n = len(ids)\n",
    "        if n == 0:\n",
    "            return {}\n",
    "        else: \n",
    "            data = {}\n",
    "            for (i, ist_id) in enumerate(ids, start=1):\n",
    "                if progress:\n",
    "                    print('%d/%d is being read...'%(i,n))\n",
    "                data[ist_id] = np.genfromtxt(path + str(ist_id) + '.csv',\n",
    "                delimiter=',',names='current,voltage',dtype=(float,float))\n",
    "        return data"
   ]
  },
  {
   "cell_type": "code",
   "execution_count": 4,
   "metadata": {
    "collapsed": false
   },
   "outputs": [
    {
     "ename": "ImportError",
     "evalue": "No module named DataHandler.DataSetHandler",
     "output_type": "error",
     "traceback": [
      "\u001b[1;31m---------------------------------------------------------------------------\u001b[0m",
      "\u001b[1;31mImportError\u001b[0m                               Traceback (most recent call last)",
      "\u001b[1;32m<ipython-input-4-13345014450d>\u001b[0m in \u001b[0;36m<module>\u001b[1;34m()\u001b[0m\n\u001b[1;32m----> 1\u001b[1;33m \u001b[1;32mimport\u001b[0m \u001b[0mDataHandler\u001b[0m\u001b[1;33m.\u001b[0m\u001b[0mDataSetHandler\u001b[0m\u001b[1;33m\u001b[0m\u001b[0m\n\u001b[0m",
      "\u001b[1;31mImportError\u001b[0m: No module named DataHandler.DataSetHandler"
     ]
    }
   ],
   "source": [
    "import DataHandler.DataSetHandler"
   ]
  },
  {
   "cell_type": "code",
   "execution_count": 10,
   "metadata": {
    "collapsed": false
   },
   "outputs": [
    {
     "data": {
      "text/plain": [
       "[<six._SixMetaPathImporter at 0x36c13c8>,\n",
       " <matplotlib.externals.six._SixMetaPathImporter at 0x464add8>]"
      ]
     },
     "execution_count": 10,
     "metadata": {},
     "output_type": "execute_result"
    }
   ],
   "source": [
    "sys.meta_path"
   ]
  },
  {
   "cell_type": "code",
   "execution_count": 51,
   "metadata": {
    "collapsed": false,
    "nbpresent": {
     "id": "284a472f-f6d5-4a46-a2a4-04148a3cdcfb"
    }
   },
   "outputs": [],
   "source": [
    "dataset = DataSetHandler(DataSetHandler.BLUED)"
   ]
  },
  {
   "cell_type": "code",
   "execution_count": 57,
   "metadata": {
    "collapsed": false,
    "nbpresent": {
     "id": "12036061-a8c6-4d57-9019-4e58f911b999"
    }
   },
   "outputs": [
    {
     "name": "stdout",
     "output_type": "stream",
     "text": [
      "1/1 is being read...\n",
      "<type 'str'>\n"
     ]
    },
    {
     "data": {
      "text/plain": [
       "{3: array([(-0.0, 129.68), (0.0, 130.85), (-0.0, 131.8), ..., (0.004, 106.0),\n",
       "        (0.004, 107.58), (0.004, 109.28)], \n",
       "       dtype=[('current', '<f8'), ('voltage', '<f8')])}"
      ]
     },
     "execution_count": 57,
     "metadata": {},
     "output_type": "execute_result"
    }
   ],
   "source": [
    "dataset.read_data('PLAID\\CSV\\\\',[3], True)"
   ]
  },
  {
   "cell_type": "code",
   "execution_count": null,
   "metadata": {
    "collapsed": true,
    "nbpresent": {
     "id": "34239d7a-b83f-4909-a5e0-835b3aa6969b"
    }
   },
   "outputs": [],
   "source": []
  },
  {
   "cell_type": "code",
   "execution_count": null,
   "metadata": {
    "collapsed": true
   },
   "outputs": [],
   "source": []
  }
 ],
 "metadata": {
  "celltoolbar": "Raw Cell Format",
  "kernelspec": {
   "display_name": "Python [Root]",
   "language": "python",
   "name": "Python [Root]"
  },
  "language_info": {
   "codemirror_mode": {
    "name": "ipython",
    "version": 2
   },
   "file_extension": ".py",
   "mimetype": "text/x-python",
   "name": "python",
   "nbconvert_exporter": "python",
   "pygments_lexer": "ipython2",
   "version": "2.7.12"
  }
 },
 "nbformat": 4,
 "nbformat_minor": 0
}
