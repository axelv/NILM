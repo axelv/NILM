{
 "cells": [
  {
   "cell_type": "code",
   "execution_count": 4,
   "metadata": {
    "collapsed": false
   },
   "outputs": [],
   "source": [
    "import matplotlib.pyplot as plt\n",
    "def simplePlot(yValues,yLabel='Power (W)'):\n",
    "    fig = plt.figure(figsize=(10,20))\n",
    "    ids_to_draw = {}\n",
    "    plt.plot(np.linspace(1./fs,len(y)/fs,num=len(y)),y)\n",
    "    plt.xlabel('time(s)')\n",
    "    plt.ylabel(yLabel,fontsize=10)\n",
    "    fig.tight_layout()\n",
    "    plt.show() \n",
    "    return None"
   ]
  },
  {
   "cell_type": "code",
   "execution_count": null,
   "metadata": {
    "collapsed": true
   },
   "outputs": [],
   "source": []
  }
 ],
 "metadata": {
  "kernelspec": {
   "display_name": "Python [Root]",
   "language": "python",
   "name": "Python [Root]"
  },
  "language_info": {
   "codemirror_mode": {
    "name": "ipython",
    "version": 2
   },
   "file_extension": ".py",
   "mimetype": "text/x-python",
   "name": "python",
   "nbconvert_exporter": "python",
   "pygments_lexer": "ipython2",
   "version": "2.7.12"
  }
 },
 "nbformat": 4,
 "nbformat_minor": 0
}
