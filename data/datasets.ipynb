{
 "cells": [
  {
   "cell_type": "markdown",
   "metadata": {},
   "source": [
    "# Datasetprocessors"
   ]
  },
  {
   "cell_type": "markdown",
   "metadata": {},
   "source": [
    "## BLUED "
   ]
  },
  {
   "cell_type": "code",
   "execution_count": null,
   "metadata": {
    "collapsed": false
   },
   "outputs": [],
   "source": [
    "import os\n",
    "import pickle\n",
    "import numpy as np\n",
    "import pandas as pd\n",
    "import csv\n",
    "import itertools\n",
    "from datetime import datetime\n",
    "\n",
    "class BLUED(object):\n",
    "    \n",
    "    def __init__(self, path):\n",
    "        self.file_prefix = \"location_001_ivdata_\"\n",
    "        self.dir_prefix = \"location_001_dataset_\"\n",
    "        self.boundaries_backup = \"BLUED_boundaries\"\n",
    "        self.samplerate = 12000\n",
    "        \n",
    "        if not os.path.isdir(path):\n",
    "            print(\"Folder not found: \"+path)\n",
    "            return None\n",
    "        else:\n",
    "            self.path = path\n",
    "            \n",
    "        self.boundaries = self._load_boundaries(path)\n",
    "        self.events = self._import_events(path)\n",
    "        \n",
    "    def get_timeseries(self, start, stop):\n",
    "        \n",
    "        timeseries = pd.DataFrame()\n",
    "        \n",
    "        #detect necessary directories and files\n",
    "        # file index is the file suffix minus one !!!\n",
    "        fstart_i = np.argmax(self.boundaries[:,0] >= start)+1\n",
    "        fstop_i = (np.argmin(self.boundaries[:,1] <= stop)-1)+1\n",
    "        dstart_i = (fstart_i-1)/400 + 1\n",
    "        dstop_i = (fstop_i-1)/400 + 1\n",
    "        \n",
    "        frange = np.arange(fstart_i, fstop_i)\n",
    "        drange = (frange-1)/400 + 1\n",
    "        \n",
    "        #check if each file is present and load the data\n",
    "        for (i, f_index) in enumerate(frange):\n",
    "            curr_path = self.path+\"\\\\\"+self.dir_prefix+format(drange[i], '03')+\"\\\\\"+self.file_prefix+format(f_index, '03')+\".txt\"\n",
    "            \n",
    "            print('Reading data from: '+curr_path)\n",
    "            \n",
    "            if not os.path.isfile(curr_path):\n",
    "                print('File '+ curr_path +' does not exist.')\n",
    "                return None\n",
    "            data = pd.read_csv(curr_path, header=22)\n",
    "            data['X_Value'] = pd.to_timedelta(data['X_Value']*10e8) + self.boundaries[frange[i]]\n",
    "            \n",
    "            data = data[(data['X_Value'] > start) & (data['X_Value'] < stop)]\n",
    "            timeseries.append(data)\n",
    "\n",
    "        return timeseries\n",
    "                                  \n",
    "    def get_timeseries_by_ids(self, ids):\n",
    "        pass\n",
    "    \n",
    "    def import_boundaries(self, path=\".\"):\n",
    "        \"\"\"Force update of the boundaries.\"\"\"\n",
    "        self.boundaries = self._import_boundaries(self, path)\n",
    "        return None\n",
    "    \n",
    "    def _import_boundaries(self, path=\".\"):\n",
    "        n = len(os.listdir(path))\n",
    "        boundaries = pd.DataFrame(columns={\"Start datetime\"}, dtype='datetime64[us]')\n",
    "        for root, dirs, files in os.walk(path):\n",
    "            \n",
    "            #Progress\n",
    "            print(\"Scanning diretory: \"+root)\n",
    "            \n",
    "            for fname in files:\n",
    "                if (fname[0:20] == self.file_prefix):\n",
    "                    i  = int(fname[20:-4])-1\n",
    "                    #Progress\n",
    "                    if ((i+1) % 100) == 0:\n",
    "                        print(\"Scanned \"+str((i+1)/4 % 100)+\"% of current directory\") \n",
    "                    \n",
    "                    filepath = os.path.join(root, fname)\n",
    "                    f = open(filepath)\n",
    "                    lines = f.readlines()\n",
    "                    f.close()\n",
    "                    boundaries[i] = pd.to_datetime(lines[15][5:15] + \" \" + lines[16][5:20], format=\"%Y/%m/%d %H:%M:%S.%f\")\n",
    "                    #!ALERT tijd wordt niet afgerond!!\n",
    "                    #boundaries[i] = np.datetime64(start_dt)\n",
    "        return boundaries\n",
    "    \n",
    "    \n",
    "    def _import_events(self, path):\n",
    "        events = []\n",
    "        for (i, item) in enumerate(os.listdir(path)): #veronderstel dat de lijst met datasets gesorteerd is\n",
    "            curr_path = os.path.join(path, item)\n",
    "            if os.path.isdir(curr_path):\n",
    "                thefilename = os.path.join(curr_path, \"location_001_eventslist.txt\")\n",
    "                if not os.path.isfile(thefilename):\n",
    "                    print(\"File not found: \"+thefilename)\n",
    "                    return None\n",
    "                with open(thefilename) as f:\n",
    "                    content = f.readlines()\n",
    "                    f.close()\n",
    "                    for eventstr in content[1:]:\n",
    "                        timestamp = datetime.strptime(eventstr[:23], \"%m/%d/%Y %H:%M:%S.%f\")\n",
    "                        device = int(eventstr[24:27])\n",
    "                        channel = eventstr[28:29]\n",
    "                        events.append((np.datetime64(timestamp, 'us'), device, channel))                                              \n",
    "        return events\n",
    "                                  \n",
    "    def _load_boundaries(self, path):                     \n",
    "        if(os.path.isfile(self.boundaries_backup)):\n",
    "            print(\"BLUED: Loading backup of boundaries.\")\n",
    "            fbackup = open(self.boundaries_backup, 'rb')\n",
    "            boundaries = pickle.load(fbackup)\n",
    "            fbackup.close()\n",
    "            \n",
    "        else:\n",
    "            print(\"BLUED: Importing boundaries and creating a backup.\")\n",
    "            boundaries = self._import_boundaries(path)\n",
    "            fbackup = open(self.boundaries_backup, 'wb')\n",
    "            pickle.dump(boundaries, fbackup)\n",
    "            fbackup.close()\n",
    "    \n",
    "        return boundaries\n",
    "        "
   ]
  },
  {
   "cell_type": "code",
   "execution_count": null,
   "metadata": {
    "collapsed": false
   },
   "outputs": [
    {
     "name": "stdout",
     "output_type": "stream",
     "text": [
      "BLUED: Importing boundaries and creating a backup.\n",
      "Scanning diretory: E:\\BLUED\n",
      "Scanning diretory: E:\\BLUED\\location_001_dataset_001\n",
      "Scanned 25% of current directory\n"
     ]
    }
   ],
   "source": [
    "test = BLUED(\"E:\\BLUED\")\n",
    "test.boundaries[10:13]"
   ]
  },
  {
   "cell_type": "code",
   "execution_count": 9,
   "metadata": {
    "collapsed": false
   },
   "outputs": [
    {
     "name": "stdout",
     "output_type": "stream",
     "text": [
      "Reading data from: E:\\BLUED\\location_001_dataset_001\\location_001_ivdata_011.txt\n"
     ]
    },
    {
     "ename": "TypeError",
     "evalue": "ufunc 'isnan' not supported for the input types, and the inputs could not be safely coerced to any supported types according to the casting rule ''safe''",
     "output_type": "error",
     "traceback": [
      "\u001b[1;31m---------------------------------------------------------------------------\u001b[0m",
      "\u001b[1;31mTypeError\u001b[0m                                 Traceback (most recent call last)",
      "\u001b[1;32m<ipython-input-9-b949ddaba0d8>\u001b[0m in \u001b[0;36m<module>\u001b[1;34m()\u001b[0m\n\u001b[1;32m----> 1\u001b[1;33m \u001b[0mdata\u001b[0m \u001b[1;33m=\u001b[0m \u001b[0mtest\u001b[0m\u001b[1;33m.\u001b[0m\u001b[0mget_timeseries\u001b[0m\u001b[1;33m(\u001b[0m\u001b[0mpd\u001b[0m\u001b[1;33m.\u001b[0m\u001b[0mto_datetime\u001b[0m\u001b[1;33m(\u001b[0m\u001b[1;34m'2011-10-20T12:15:29.823'\u001b[0m\u001b[1;33m)\u001b[0m\u001b[1;33m,\u001b[0m \u001b[0mpd\u001b[0m\u001b[1;33m.\u001b[0m\u001b[0mto_datetime\u001b[0m\u001b[1;33m(\u001b[0m\u001b[1;34m'2011-10-20T12:18:48.125'\u001b[0m\u001b[1;33m)\u001b[0m\u001b[1;33m)\u001b[0m\u001b[1;33m\u001b[0m\u001b[0m\n\u001b[0m",
      "\u001b[1;32m<ipython-input-7-986823c35062>\u001b[0m in \u001b[0;36mget_timeseries\u001b[1;34m(self, start, stop)\u001b[0m\n\u001b[0;32m     48\u001b[0m                 \u001b[1;32mreturn\u001b[0m \u001b[0mNone\u001b[0m\u001b[1;33m\u001b[0m\u001b[0m\n\u001b[0;32m     49\u001b[0m             \u001b[0mdata\u001b[0m \u001b[1;33m=\u001b[0m \u001b[0mpd\u001b[0m\u001b[1;33m.\u001b[0m\u001b[0mread_csv\u001b[0m\u001b[1;33m(\u001b[0m\u001b[0mcurr_path\u001b[0m\u001b[1;33m,\u001b[0m \u001b[0mheader\u001b[0m\u001b[1;33m=\u001b[0m\u001b[1;36m22\u001b[0m\u001b[1;33m)\u001b[0m\u001b[1;33m\u001b[0m\u001b[0m\n\u001b[1;32m---> 50\u001b[1;33m             \u001b[0mdata\u001b[0m\u001b[1;33m[\u001b[0m\u001b[1;34m'X_Value'\u001b[0m\u001b[1;33m]\u001b[0m \u001b[1;33m=\u001b[0m \u001b[0mpd\u001b[0m\u001b[1;33m.\u001b[0m\u001b[0mto_timedelta\u001b[0m\u001b[1;33m(\u001b[0m\u001b[0mdata\u001b[0m\u001b[1;33m[\u001b[0m\u001b[1;34m'X_Value'\u001b[0m\u001b[1;33m]\u001b[0m\u001b[1;33m*\u001b[0m\u001b[1;36m10e8\u001b[0m\u001b[1;33m)\u001b[0m \u001b[1;33m+\u001b[0m \u001b[0mself\u001b[0m\u001b[1;33m.\u001b[0m\u001b[0mboundaries\u001b[0m\u001b[1;33m[\u001b[0m\u001b[0mfrange\u001b[0m\u001b[1;33m[\u001b[0m\u001b[0mi\u001b[0m\u001b[1;33m]\u001b[0m\u001b[1;33m]\u001b[0m\u001b[1;33m\u001b[0m\u001b[0m\n\u001b[0m\u001b[0;32m     51\u001b[0m \u001b[1;33m\u001b[0m\u001b[0m\n\u001b[0;32m     52\u001b[0m             \u001b[0mdata\u001b[0m \u001b[1;33m=\u001b[0m \u001b[0mdata\u001b[0m\u001b[1;33m[\u001b[0m\u001b[1;33m(\u001b[0m\u001b[0mdata\u001b[0m\u001b[1;33m[\u001b[0m\u001b[1;34m'X_Value'\u001b[0m\u001b[1;33m]\u001b[0m \u001b[1;33m>\u001b[0m \u001b[0mstart\u001b[0m\u001b[1;33m)\u001b[0m \u001b[1;33m&\u001b[0m \u001b[1;33m(\u001b[0m\u001b[0mdata\u001b[0m\u001b[1;33m[\u001b[0m\u001b[1;34m'X_Value'\u001b[0m\u001b[1;33m]\u001b[0m \u001b[1;33m<\u001b[0m \u001b[0mstop\u001b[0m\u001b[1;33m)\u001b[0m\u001b[1;33m]\u001b[0m\u001b[1;33m\u001b[0m\u001b[0m\n",
      "\u001b[1;32mC:\\Users\\axelv\\Anaconda2\\lib\\site-packages\\pandas\\core\\ops.pyc\u001b[0m in \u001b[0;36mwrapper\u001b[1;34m(left, right, name, na_op)\u001b[0m\n\u001b[0;32m    607\u001b[0m \u001b[1;33m\u001b[0m\u001b[0m\n\u001b[0;32m    608\u001b[0m         time_converted = _TimeOp.maybe_convert_for_time_op(left, right, name,\n\u001b[1;32m--> 609\u001b[1;33m                                                            na_op)\n\u001b[0m\u001b[0;32m    610\u001b[0m \u001b[1;33m\u001b[0m\u001b[0m\n\u001b[0;32m    611\u001b[0m         \u001b[1;32mif\u001b[0m \u001b[0mtime_converted\u001b[0m \u001b[1;32mis\u001b[0m \u001b[0mNone\u001b[0m\u001b[1;33m:\u001b[0m\u001b[1;33m\u001b[0m\u001b[0m\n",
      "\u001b[1;32mC:\\Users\\axelv\\Anaconda2\\lib\\site-packages\\pandas\\core\\ops.pyc\u001b[0m in \u001b[0;36mmaybe_convert_for_time_op\u001b[1;34m(cls, left, right, name, na_op)\u001b[0m\n\u001b[0;32m    567\u001b[0m             \u001b[1;32mreturn\u001b[0m \u001b[0mNone\u001b[0m\u001b[1;33m\u001b[0m\u001b[0m\n\u001b[0;32m    568\u001b[0m \u001b[1;33m\u001b[0m\u001b[0m\n\u001b[1;32m--> 569\u001b[1;33m         \u001b[1;32mreturn\u001b[0m \u001b[0mcls\u001b[0m\u001b[1;33m(\u001b[0m\u001b[0mleft\u001b[0m\u001b[1;33m,\u001b[0m \u001b[0mright\u001b[0m\u001b[1;33m,\u001b[0m \u001b[0mname\u001b[0m\u001b[1;33m,\u001b[0m \u001b[0mna_op\u001b[0m\u001b[1;33m)\u001b[0m\u001b[1;33m\u001b[0m\u001b[0m\n\u001b[0m\u001b[0;32m    570\u001b[0m \u001b[1;33m\u001b[0m\u001b[0m\n\u001b[0;32m    571\u001b[0m \u001b[1;33m\u001b[0m\u001b[0m\n",
      "\u001b[1;32mC:\\Users\\axelv\\Anaconda2\\lib\\site-packages\\pandas\\core\\ops.pyc\u001b[0m in \u001b[0;36m__init__\u001b[1;34m(self, left, right, name, na_op)\u001b[0m\n\u001b[0;32m    281\u001b[0m \u001b[1;33m\u001b[0m\u001b[0m\n\u001b[0;32m    282\u001b[0m         \u001b[0mlvalues\u001b[0m \u001b[1;33m=\u001b[0m \u001b[0mself\u001b[0m\u001b[1;33m.\u001b[0m\u001b[0m_convert_to_array\u001b[0m\u001b[1;33m(\u001b[0m\u001b[0mleft\u001b[0m\u001b[1;33m,\u001b[0m \u001b[0mname\u001b[0m\u001b[1;33m=\u001b[0m\u001b[0mname\u001b[0m\u001b[1;33m)\u001b[0m\u001b[1;33m\u001b[0m\u001b[0m\n\u001b[1;32m--> 283\u001b[1;33m         \u001b[0mrvalues\u001b[0m \u001b[1;33m=\u001b[0m \u001b[0mself\u001b[0m\u001b[1;33m.\u001b[0m\u001b[0m_convert_to_array\u001b[0m\u001b[1;33m(\u001b[0m\u001b[0mright\u001b[0m\u001b[1;33m,\u001b[0m \u001b[0mname\u001b[0m\u001b[1;33m=\u001b[0m\u001b[0mname\u001b[0m\u001b[1;33m,\u001b[0m \u001b[0mother\u001b[0m\u001b[1;33m=\u001b[0m\u001b[0mlvalues\u001b[0m\u001b[1;33m)\u001b[0m\u001b[1;33m\u001b[0m\u001b[0m\n\u001b[0m\u001b[0;32m    284\u001b[0m \u001b[1;33m\u001b[0m\u001b[0m\n\u001b[0;32m    285\u001b[0m         \u001b[0mself\u001b[0m\u001b[1;33m.\u001b[0m\u001b[0mname\u001b[0m \u001b[1;33m=\u001b[0m \u001b[0mname\u001b[0m\u001b[1;33m\u001b[0m\u001b[0m\n",
      "\u001b[1;32mC:\\Users\\axelv\\Anaconda2\\lib\\site-packages\\pandas\\core\\ops.pyc\u001b[0m in \u001b[0;36m_convert_to_array\u001b[1;34m(self, values, name, other)\u001b[0m\n\u001b[0;32m    402\u001b[0m             if (supplied_dtype is None and other is not None and\n\u001b[0;32m    403\u001b[0m                 \u001b[1;33m(\u001b[0m\u001b[0mother\u001b[0m\u001b[1;33m.\u001b[0m\u001b[0mdtype\u001b[0m \u001b[1;32min\u001b[0m \u001b[1;33m(\u001b[0m\u001b[1;34m'timedelta64[ns]'\u001b[0m\u001b[1;33m,\u001b[0m \u001b[1;34m'datetime64[ns]'\u001b[0m\u001b[1;33m)\u001b[0m\u001b[1;33m)\u001b[0m \u001b[1;32mand\u001b[0m\u001b[1;33m\u001b[0m\u001b[0m\n\u001b[1;32m--> 404\u001b[1;33m                     isnull(values).all()):\n\u001b[0m\u001b[0;32m    405\u001b[0m                 \u001b[0mvalues\u001b[0m \u001b[1;33m=\u001b[0m \u001b[0mnp\u001b[0m\u001b[1;33m.\u001b[0m\u001b[0mempty\u001b[0m\u001b[1;33m(\u001b[0m\u001b[0mvalues\u001b[0m\u001b[1;33m.\u001b[0m\u001b[0mshape\u001b[0m\u001b[1;33m,\u001b[0m \u001b[0mdtype\u001b[0m\u001b[1;33m=\u001b[0m\u001b[1;34m'timedelta64[ns]'\u001b[0m\u001b[1;33m)\u001b[0m\u001b[1;33m\u001b[0m\u001b[0m\n\u001b[0;32m    406\u001b[0m                 \u001b[0mvalues\u001b[0m\u001b[1;33m[\u001b[0m\u001b[1;33m:\u001b[0m\u001b[1;33m]\u001b[0m \u001b[1;33m=\u001b[0m \u001b[0miNaT\u001b[0m\u001b[1;33m\u001b[0m\u001b[0m\n",
      "\u001b[1;32mC:\\Users\\axelv\\Anaconda2\\lib\\site-packages\\pandas\\core\\common.pyc\u001b[0m in \u001b[0;36misnull\u001b[1;34m(obj)\u001b[0m\n\u001b[0;32m     89\u001b[0m     \u001b[0mpandas\u001b[0m\u001b[1;33m.\u001b[0m\u001b[0mnotnull\u001b[0m\u001b[1;33m:\u001b[0m \u001b[0mboolean\u001b[0m \u001b[0minverse\u001b[0m \u001b[0mof\u001b[0m \u001b[0mpandas\u001b[0m\u001b[1;33m.\u001b[0m\u001b[0misnull\u001b[0m\u001b[1;33m\u001b[0m\u001b[0m\n\u001b[0;32m     90\u001b[0m     \"\"\"\n\u001b[1;32m---> 91\u001b[1;33m     \u001b[1;32mreturn\u001b[0m \u001b[0m_isnull\u001b[0m\u001b[1;33m(\u001b[0m\u001b[0mobj\u001b[0m\u001b[1;33m)\u001b[0m\u001b[1;33m\u001b[0m\u001b[0m\n\u001b[0m\u001b[0;32m     92\u001b[0m \u001b[1;33m\u001b[0m\u001b[0m\n\u001b[0;32m     93\u001b[0m \u001b[1;33m\u001b[0m\u001b[0m\n",
      "\u001b[1;32mC:\\Users\\axelv\\Anaconda2\\lib\\site-packages\\pandas\\core\\common.pyc\u001b[0m in \u001b[0;36m_isnull_new\u001b[1;34m(obj)\u001b[0m\n\u001b[0;32m     99\u001b[0m         \u001b[1;32mraise\u001b[0m \u001b[0mNotImplementedError\u001b[0m\u001b[1;33m(\u001b[0m\u001b[1;34m\"isnull is not defined for MultiIndex\"\u001b[0m\u001b[1;33m)\u001b[0m\u001b[1;33m\u001b[0m\u001b[0m\n\u001b[0;32m    100\u001b[0m     \u001b[1;32melif\u001b[0m \u001b[0misinstance\u001b[0m\u001b[1;33m(\u001b[0m\u001b[0mobj\u001b[0m\u001b[1;33m,\u001b[0m \u001b[1;33m(\u001b[0m\u001b[0mgt\u001b[0m\u001b[1;33m.\u001b[0m\u001b[0mABCSeries\u001b[0m\u001b[1;33m,\u001b[0m \u001b[0mnp\u001b[0m\u001b[1;33m.\u001b[0m\u001b[0mndarray\u001b[0m\u001b[1;33m,\u001b[0m \u001b[0mpd\u001b[0m\u001b[1;33m.\u001b[0m\u001b[0mIndex\u001b[0m\u001b[1;33m)\u001b[0m\u001b[1;33m)\u001b[0m\u001b[1;33m:\u001b[0m\u001b[1;33m\u001b[0m\u001b[0m\n\u001b[1;32m--> 101\u001b[1;33m         \u001b[1;32mreturn\u001b[0m \u001b[0m_isnull_ndarraylike\u001b[0m\u001b[1;33m(\u001b[0m\u001b[0mobj\u001b[0m\u001b[1;33m)\u001b[0m\u001b[1;33m\u001b[0m\u001b[0m\n\u001b[0m\u001b[0;32m    102\u001b[0m     \u001b[1;32melif\u001b[0m \u001b[0misinstance\u001b[0m\u001b[1;33m(\u001b[0m\u001b[0mobj\u001b[0m\u001b[1;33m,\u001b[0m \u001b[0mgt\u001b[0m\u001b[1;33m.\u001b[0m\u001b[0mABCGeneric\u001b[0m\u001b[1;33m)\u001b[0m\u001b[1;33m:\u001b[0m\u001b[1;33m\u001b[0m\u001b[0m\n\u001b[0;32m    103\u001b[0m         \u001b[1;32mreturn\u001b[0m \u001b[0mobj\u001b[0m\u001b[1;33m.\u001b[0m\u001b[0m_constructor\u001b[0m\u001b[1;33m(\u001b[0m\u001b[0mobj\u001b[0m\u001b[1;33m.\u001b[0m\u001b[0m_data\u001b[0m\u001b[1;33m.\u001b[0m\u001b[0misnull\u001b[0m\u001b[1;33m(\u001b[0m\u001b[0mfunc\u001b[0m\u001b[1;33m=\u001b[0m\u001b[0misnull\u001b[0m\u001b[1;33m)\u001b[0m\u001b[1;33m)\u001b[0m\u001b[1;33m\u001b[0m\u001b[0m\n",
      "\u001b[1;32mC:\\Users\\axelv\\Anaconda2\\lib\\site-packages\\pandas\\core\\common.pyc\u001b[0m in \u001b[0;36m_isnull_ndarraylike\u001b[1;34m(obj)\u001b[0m\n\u001b[0;32m    190\u001b[0m         \u001b[0mresult\u001b[0m \u001b[1;33m=\u001b[0m \u001b[0mvalues\u001b[0m\u001b[1;33m.\u001b[0m\u001b[0mview\u001b[0m\u001b[1;33m(\u001b[0m\u001b[1;34m'i8'\u001b[0m\u001b[1;33m)\u001b[0m \u001b[1;33m==\u001b[0m \u001b[0mtslib\u001b[0m\u001b[1;33m.\u001b[0m\u001b[0miNaT\u001b[0m\u001b[1;33m\u001b[0m\u001b[0m\n\u001b[0;32m    191\u001b[0m     \u001b[1;32melse\u001b[0m\u001b[1;33m:\u001b[0m\u001b[1;33m\u001b[0m\u001b[0m\n\u001b[1;32m--> 192\u001b[1;33m         \u001b[0mresult\u001b[0m \u001b[1;33m=\u001b[0m \u001b[0mnp\u001b[0m\u001b[1;33m.\u001b[0m\u001b[0misnan\u001b[0m\u001b[1;33m(\u001b[0m\u001b[0mvalues\u001b[0m\u001b[1;33m)\u001b[0m\u001b[1;33m\u001b[0m\u001b[0m\n\u001b[0m\u001b[0;32m    193\u001b[0m \u001b[1;33m\u001b[0m\u001b[0m\n\u001b[0;32m    194\u001b[0m     \u001b[1;31m# box\u001b[0m\u001b[1;33m\u001b[0m\u001b[1;33m\u001b[0m\u001b[0m\n",
      "\u001b[1;31mTypeError\u001b[0m: ufunc 'isnan' not supported for the input types, and the inputs could not be safely coerced to any supported types according to the casting rule ''safe''"
     ]
    }
   ],
   "source": [
    "data = test.get_timeseries(pd.to_datetime('2011-10-20T12:15:29.823'), pd.to_datetime('2011-10-20T12:18:48.125'))"
   ]
  },
  {
   "cell_type": "code",
   "execution_count": 111,
   "metadata": {
    "collapsed": true
   },
   "outputs": [],
   "source": [
    "import pandas as pd\n",
    "data = pd.read_csv(\"E:\\BLUED\\location_001_dataset_001\\location_001_ivdata_011.txt\", header=22)"
   ]
  },
  {
   "cell_type": "code",
   "execution_count": 118,
   "metadata": {
    "collapsed": false
   },
   "outputs": [
    {
     "ename": "ValueError",
     "evalue": "'u' is a bad directive in format '%us'",
     "output_type": "error",
     "traceback": [
      "\u001b[1;31m---------------------------------------------------------------------------\u001b[0m",
      "\u001b[1;31mValueError\u001b[0m                                Traceback (most recent call last)",
      "\u001b[1;32m<ipython-input-118-07d8add85f07>\u001b[0m in \u001b[0;36m<module>\u001b[1;34m()\u001b[0m\n\u001b[0;32m      1\u001b[0m \u001b[0mdata\u001b[0m\u001b[1;33m[\u001b[0m\u001b[1;34m'X_Value'\u001b[0m\u001b[1;33m]\u001b[0m \u001b[1;33m=\u001b[0m \u001b[0mdata\u001b[0m\u001b[1;33m[\u001b[0m\u001b[1;34m'X_Value'\u001b[0m\u001b[1;33m]\u001b[0m\u001b[1;33m*\u001b[0m\u001b[1;36m1000000\u001b[0m\u001b[1;33m\u001b[0m\u001b[0m\n\u001b[1;32m----> 2\u001b[1;33m \u001b[0mpd\u001b[0m\u001b[1;33m.\u001b[0m\u001b[0mto_datetime\u001b[0m\u001b[1;33m(\u001b[0m\u001b[0mdata\u001b[0m\u001b[1;33m[\u001b[0m\u001b[1;34m'X_Value'\u001b[0m\u001b[1;33m]\u001b[0m\u001b[1;33m,\u001b[0m \u001b[0mformat\u001b[0m\u001b[1;33m=\u001b[0m\u001b[1;34m\"%us\"\u001b[0m\u001b[1;33m)\u001b[0m \u001b[1;33m+\u001b[0m \u001b[0mtest\u001b[0m\u001b[1;33m.\u001b[0m\u001b[0mboundaries\u001b[0m\u001b[1;33m[\u001b[0m\u001b[1;36m10\u001b[0m\u001b[1;33m]\u001b[0m\u001b[1;33m\u001b[0m\u001b[0m\n\u001b[0m",
      "\u001b[1;32mC:\\Users\\axelv\\Anaconda2\\lib\\site-packages\\pandas\\util\\decorators.py\u001b[0m in \u001b[0;36mwrapper\u001b[1;34m(*args, **kwargs)\u001b[0m\n\u001b[0;32m     89\u001b[0m                 \u001b[1;32melse\u001b[0m\u001b[1;33m:\u001b[0m\u001b[1;33m\u001b[0m\u001b[0m\n\u001b[0;32m     90\u001b[0m                     \u001b[0mkwargs\u001b[0m\u001b[1;33m[\u001b[0m\u001b[0mnew_arg_name\u001b[0m\u001b[1;33m]\u001b[0m \u001b[1;33m=\u001b[0m \u001b[0mnew_arg_value\u001b[0m\u001b[1;33m\u001b[0m\u001b[0m\n\u001b[1;32m---> 91\u001b[1;33m             \u001b[1;32mreturn\u001b[0m \u001b[0mfunc\u001b[0m\u001b[1;33m(\u001b[0m\u001b[1;33m*\u001b[0m\u001b[0margs\u001b[0m\u001b[1;33m,\u001b[0m \u001b[1;33m**\u001b[0m\u001b[0mkwargs\u001b[0m\u001b[1;33m)\u001b[0m\u001b[1;33m\u001b[0m\u001b[0m\n\u001b[0m\u001b[0;32m     92\u001b[0m         \u001b[1;32mreturn\u001b[0m \u001b[0mwrapper\u001b[0m\u001b[1;33m\u001b[0m\u001b[0m\n\u001b[0;32m     93\u001b[0m     \u001b[1;32mreturn\u001b[0m \u001b[0m_deprecate_kwarg\u001b[0m\u001b[1;33m\u001b[0m\u001b[0m\n",
      "\u001b[1;32mC:\\Users\\axelv\\Anaconda2\\lib\\site-packages\\pandas\\tseries\\tools.py\u001b[0m in \u001b[0;36mto_datetime\u001b[1;34m(arg, errors, dayfirst, yearfirst, utc, box, format, exact, coerce, unit, infer_datetime_format)\u001b[0m\n\u001b[0;32m    289\u001b[0m                         \u001b[0myearfirst\u001b[0m\u001b[1;33m=\u001b[0m\u001b[0myearfirst\u001b[0m\u001b[1;33m,\u001b[0m\u001b[1;33m\u001b[0m\u001b[0m\n\u001b[0;32m    290\u001b[0m                         \u001b[0mutc\u001b[0m\u001b[1;33m=\u001b[0m\u001b[0mutc\u001b[0m\u001b[1;33m,\u001b[0m \u001b[0mbox\u001b[0m\u001b[1;33m=\u001b[0m\u001b[0mbox\u001b[0m\u001b[1;33m,\u001b[0m \u001b[0mformat\u001b[0m\u001b[1;33m=\u001b[0m\u001b[0mformat\u001b[0m\u001b[1;33m,\u001b[0m \u001b[0mexact\u001b[0m\u001b[1;33m=\u001b[0m\u001b[0mexact\u001b[0m\u001b[1;33m,\u001b[0m\u001b[1;33m\u001b[0m\u001b[0m\n\u001b[1;32m--> 291\u001b[1;33m                         unit=unit, infer_datetime_format=infer_datetime_format)\n\u001b[0m\u001b[0;32m    292\u001b[0m \u001b[1;33m\u001b[0m\u001b[0m\n\u001b[0;32m    293\u001b[0m \u001b[1;33m\u001b[0m\u001b[0m\n",
      "\u001b[1;32mC:\\Users\\axelv\\Anaconda2\\lib\\site-packages\\pandas\\tseries\\tools.py\u001b[0m in \u001b[0;36m_to_datetime\u001b[1;34m(arg, errors, dayfirst, yearfirst, utc, box, format, exact, unit, freq, infer_datetime_format)\u001b[0m\n\u001b[0;32m    418\u001b[0m     \u001b[1;32melif\u001b[0m \u001b[0misinstance\u001b[0m\u001b[1;33m(\u001b[0m\u001b[0marg\u001b[0m\u001b[1;33m,\u001b[0m \u001b[0mABCSeries\u001b[0m\u001b[1;33m)\u001b[0m\u001b[1;33m:\u001b[0m\u001b[1;33m\u001b[0m\u001b[0m\n\u001b[0;32m    419\u001b[0m         \u001b[1;32mfrom\u001b[0m \u001b[0mpandas\u001b[0m \u001b[1;32mimport\u001b[0m \u001b[0mSeries\u001b[0m\u001b[1;33m\u001b[0m\u001b[0m\n\u001b[1;32m--> 420\u001b[1;33m         \u001b[0mvalues\u001b[0m \u001b[1;33m=\u001b[0m \u001b[0m_convert_listlike\u001b[0m\u001b[1;33m(\u001b[0m\u001b[0marg\u001b[0m\u001b[1;33m.\u001b[0m\u001b[0m_values\u001b[0m\u001b[1;33m,\u001b[0m \u001b[0mFalse\u001b[0m\u001b[1;33m,\u001b[0m \u001b[0mformat\u001b[0m\u001b[1;33m)\u001b[0m\u001b[1;33m\u001b[0m\u001b[0m\n\u001b[0m\u001b[0;32m    421\u001b[0m         \u001b[1;32mreturn\u001b[0m \u001b[0mSeries\u001b[0m\u001b[1;33m(\u001b[0m\u001b[0mvalues\u001b[0m\u001b[1;33m,\u001b[0m \u001b[0mindex\u001b[0m\u001b[1;33m=\u001b[0m\u001b[0marg\u001b[0m\u001b[1;33m.\u001b[0m\u001b[0mindex\u001b[0m\u001b[1;33m,\u001b[0m \u001b[0mname\u001b[0m\u001b[1;33m=\u001b[0m\u001b[0marg\u001b[0m\u001b[1;33m.\u001b[0m\u001b[0mname\u001b[0m\u001b[1;33m)\u001b[0m\u001b[1;33m\u001b[0m\u001b[0m\n\u001b[0;32m    422\u001b[0m     \u001b[1;32melif\u001b[0m \u001b[0misinstance\u001b[0m\u001b[1;33m(\u001b[0m\u001b[0marg\u001b[0m\u001b[1;33m,\u001b[0m \u001b[1;33m(\u001b[0m\u001b[0mABCDataFrame\u001b[0m\u001b[1;33m,\u001b[0m \u001b[0mMutableMapping\u001b[0m\u001b[1;33m)\u001b[0m\u001b[1;33m)\u001b[0m\u001b[1;33m:\u001b[0m\u001b[1;33m\u001b[0m\u001b[0m\n",
      "\u001b[1;32mC:\\Users\\axelv\\Anaconda2\\lib\\site-packages\\pandas\\tseries\\tools.py\u001b[0m in \u001b[0;36m_convert_listlike\u001b[1;34m(arg, box, format, name)\u001b[0m\n\u001b[0;32m    410\u001b[0m                 \u001b[1;32mreturn\u001b[0m \u001b[0mDatetimeIndex\u001b[0m\u001b[1;33m.\u001b[0m\u001b[0m_simple_new\u001b[0m\u001b[1;33m(\u001b[0m\u001b[0mvalues\u001b[0m\u001b[1;33m,\u001b[0m \u001b[0mname\u001b[0m\u001b[1;33m=\u001b[0m\u001b[0mname\u001b[0m\u001b[1;33m,\u001b[0m \u001b[0mtz\u001b[0m\u001b[1;33m=\u001b[0m\u001b[0mtz\u001b[0m\u001b[1;33m)\u001b[0m\u001b[1;33m\u001b[0m\u001b[0m\n\u001b[0;32m    411\u001b[0m             \u001b[1;32mexcept\u001b[0m \u001b[1;33m(\u001b[0m\u001b[0mValueError\u001b[0m\u001b[1;33m,\u001b[0m \u001b[0mTypeError\u001b[0m\u001b[1;33m)\u001b[0m\u001b[1;33m:\u001b[0m\u001b[1;33m\u001b[0m\u001b[0m\n\u001b[1;32m--> 412\u001b[1;33m                 \u001b[1;32mraise\u001b[0m \u001b[0me\u001b[0m\u001b[1;33m\u001b[0m\u001b[0m\n\u001b[0m\u001b[0;32m    413\u001b[0m \u001b[1;33m\u001b[0m\u001b[0m\n\u001b[0;32m    414\u001b[0m     \u001b[1;32mif\u001b[0m \u001b[0marg\u001b[0m \u001b[1;32mis\u001b[0m \u001b[0mNone\u001b[0m\u001b[1;33m:\u001b[0m\u001b[1;33m\u001b[0m\u001b[0m\n",
      "\u001b[1;31mValueError\u001b[0m: 'u' is a bad directive in format '%us'"
     ]
    }
   ],
   "source": [
    "pd.offsets.Second()"
   ]
  },
  {
   "cell_type": "code",
   "execution_count": 90,
   "metadata": {
    "collapsed": false
   },
   "outputs": [
    {
     "data": {
      "text/plain": [
       "numpy.datetime64('2011-10-20T12:03:39.723')"
      ]
     },
     "execution_count": 90,
     "metadata": {},
     "output_type": "execute_result"
    }
   ],
   "source": [
    "test.boundaries[3,0]"
   ]
  },
  {
   "cell_type": "code",
   "execution_count": 76,
   "metadata": {
    "collapsed": false
   },
   "outputs": [
    {
     "data": {
      "text/plain": [
       "True"
      ]
     },
     "execution_count": 76,
     "metadata": {},
     "output_type": "execute_result"
    }
   ],
   "source": [
    "(test.boundaries[10,0] <= np.datetime64('2011-10-20T12:15:29.824'))"
   ]
  },
  {
   "cell_type": "code",
   "execution_count": 29,
   "metadata": {
    "collapsed": false
   },
   "outputs": [
    {
     "data": {
      "text/plain": [
       "0.003"
      ]
     },
     "execution_count": 29,
     "metadata": {},
     "output_type": "execute_result"
    }
   ],
   "source": [
    "(np.datetime64('2011-10-20T12:18:48.123')-np.datetime64('2011-10-20T12:18:48.120')).item().total_seconds()"
   ]
  },
  {
   "cell_type": "code",
   "execution_count": 52,
   "metadata": {
    "collapsed": false
   },
   "outputs": [
    {
     "data": {
      "text/plain": [
       "array([[  1.01720008e+03,   1.46385200e+00,  -2.01232100e+00,\n",
       "          3.24614630e+01],\n",
       "       [  1.01720017e+03,   1.42139800e+00,  -1.94906400e+00,\n",
       "          3.76999250e+01],\n",
       "       [  1.01720025e+03,   1.37894400e+00,  -2.05449200e+00,\n",
       "          4.30961720e+01],\n",
       "       ..., \n",
       "       [  1.11634975e+03,   9.54404000e-01,  -5.19626100e+00,\n",
       "          1.69261058e+02],\n",
       "       [  1.11634983e+03,   8.05815000e-01,  -5.25951800e+00,\n",
       "          1.69639742e+02],\n",
       "       [  1.11634992e+03,   6.57225000e-01,  -5.17517500e+00,\n",
       "          1.69829084e+02]])"
      ]
     },
     "execution_count": 52,
     "metadata": {},
     "output_type": "execute_result"
    }
   ],
   "source": [
    "np.genfromtxt(\"E:\\BLUED\\location_001_dataset_001\\location_001_ivdata_011.txt\", skip_header=24, delimiter=\",\")"
   ]
  },
  {
   "cell_type": "code",
   "execution_count": 4,
   "metadata": {
    "collapsed": false
   },
   "outputs": [],
   "source": [
    "import pandas as pd"
   ]
  },
  {
   "cell_type": "code",
   "execution_count": 5,
   "metadata": {
    "collapsed": true
   },
   "outputs": [],
   "source": [
    "data = pd.read_csv(\"E:\\BLUED\\location_001_dataset_001\\location_001_ivdata_011.txt\", header=22)"
   ]
  },
  {
   "cell_type": "code",
   "execution_count": 6,
   "metadata": {
    "collapsed": false
   },
   "outputs": [
    {
     "data": {
      "text/html": [
       "<div>\n",
       "<table border=\"1\" class=\"dataframe\">\n",
       "  <thead>\n",
       "    <tr style=\"text-align: right;\">\n",
       "      <th></th>\n",
       "      <th>X_Value</th>\n",
       "      <th>Current A</th>\n",
       "      <th>Current B</th>\n",
       "      <th>VoltageA</th>\n",
       "      <th>Comment</th>\n",
       "    </tr>\n",
       "  </thead>\n",
       "  <tbody>\n",
       "    <tr>\n",
       "      <th>1189795</th>\n",
       "      <td>1116.349583</td>\n",
       "      <td>1.145447</td>\n",
       "      <td>-4.858890</td>\n",
       "      <td>168.314348</td>\n",
       "      <td>NaN</td>\n",
       "    </tr>\n",
       "    <tr>\n",
       "      <th>1189796</th>\n",
       "      <td>1116.349667</td>\n",
       "      <td>1.060539</td>\n",
       "      <td>-5.048661</td>\n",
       "      <td>168.945488</td>\n",
       "      <td>NaN</td>\n",
       "    </tr>\n",
       "    <tr>\n",
       "      <th>1189797</th>\n",
       "      <td>1116.349750</td>\n",
       "      <td>0.954404</td>\n",
       "      <td>-5.196261</td>\n",
       "      <td>169.261058</td>\n",
       "      <td>NaN</td>\n",
       "    </tr>\n",
       "    <tr>\n",
       "      <th>1189798</th>\n",
       "      <td>1116.349833</td>\n",
       "      <td>0.805815</td>\n",
       "      <td>-5.259518</td>\n",
       "      <td>169.639742</td>\n",
       "      <td>NaN</td>\n",
       "    </tr>\n",
       "    <tr>\n",
       "      <th>1189799</th>\n",
       "      <td>1116.349917</td>\n",
       "      <td>0.657225</td>\n",
       "      <td>-5.175175</td>\n",
       "      <td>169.829084</td>\n",
       "      <td>NaN</td>\n",
       "    </tr>\n",
       "  </tbody>\n",
       "</table>\n",
       "</div>"
      ],
      "text/plain": [
       "             X_Value  Current A  Current B    VoltageA  Comment\n",
       "1189795  1116.349583   1.145447  -4.858890  168.314348      NaN\n",
       "1189796  1116.349667   1.060539  -5.048661  168.945488      NaN\n",
       "1189797  1116.349750   0.954404  -5.196261  169.261058      NaN\n",
       "1189798  1116.349833   0.805815  -5.259518  169.639742      NaN\n",
       "1189799  1116.349917   0.657225  -5.175175  169.829084      NaN"
      ]
     },
     "execution_count": 6,
     "metadata": {},
     "output_type": "execute_result"
    }
   ],
   "source": [
    "data.tail()"
   ]
  },
  {
   "cell_type": "code",
   "execution_count": 7,
   "metadata": {
    "collapsed": false
   },
   "outputs": [
    {
     "data": {
      "text/html": [
       "<div>\n",
       "<table border=\"1\" class=\"dataframe\">\n",
       "  <thead>\n",
       "    <tr style=\"text-align: right;\">\n",
       "      <th></th>\n",
       "      <th>X_Value</th>\n",
       "      <th>Current A</th>\n",
       "      <th>Current B</th>\n",
       "      <th>VoltageA</th>\n",
       "      <th>Comment</th>\n",
       "    </tr>\n",
       "  </thead>\n",
       "  <tbody>\n",
       "    <tr>\n",
       "      <th>0</th>\n",
       "      <td>1017.200000</td>\n",
       "      <td>1.357717</td>\n",
       "      <td>-1.780378</td>\n",
       "      <td>26.591861</td>\n",
       "      <td>NaN</td>\n",
       "    </tr>\n",
       "    <tr>\n",
       "      <th>1</th>\n",
       "      <td>1017.200083</td>\n",
       "      <td>1.463852</td>\n",
       "      <td>-2.012321</td>\n",
       "      <td>32.461463</td>\n",
       "      <td>NaN</td>\n",
       "    </tr>\n",
       "    <tr>\n",
       "      <th>2</th>\n",
       "      <td>1017.200167</td>\n",
       "      <td>1.421398</td>\n",
       "      <td>-1.949064</td>\n",
       "      <td>37.699925</td>\n",
       "      <td>NaN</td>\n",
       "    </tr>\n",
       "    <tr>\n",
       "      <th>3</th>\n",
       "      <td>1017.200250</td>\n",
       "      <td>1.378944</td>\n",
       "      <td>-2.054492</td>\n",
       "      <td>43.096172</td>\n",
       "      <td>NaN</td>\n",
       "    </tr>\n",
       "    <tr>\n",
       "      <th>4</th>\n",
       "      <td>1017.200333</td>\n",
       "      <td>1.378944</td>\n",
       "      <td>-2.075578</td>\n",
       "      <td>48.429305</td>\n",
       "      <td>NaN</td>\n",
       "    </tr>\n",
       "  </tbody>\n",
       "</table>\n",
       "</div>"
      ],
      "text/plain": [
       "       X_Value  Current A  Current B   VoltageA  Comment\n",
       "0  1017.200000   1.357717  -1.780378  26.591861      NaN\n",
       "1  1017.200083   1.463852  -2.012321  32.461463      NaN\n",
       "2  1017.200167   1.421398  -1.949064  37.699925      NaN\n",
       "3  1017.200250   1.378944  -2.054492  43.096172      NaN\n",
       "4  1017.200333   1.378944  -2.075578  48.429305      NaN"
      ]
     },
     "execution_count": 7,
     "metadata": {},
     "output_type": "execute_result"
    }
   ],
   "source": [
    "data.head()"
   ]
  },
  {
   "cell_type": "code",
   "execution_count": 25,
   "metadata": {
    "collapsed": false
   },
   "outputs": [
    {
     "data": {
      "text/plain": [
       "0         2011-10-20 12:32:27.023000\n",
       "1         2011-10-20 12:32:27.023083\n",
       "2         2011-10-20 12:32:27.023167\n",
       "3         2011-10-20 12:32:27.023250\n",
       "4         2011-10-20 12:32:27.023333\n",
       "5         2011-10-20 12:32:27.023417\n",
       "6         2011-10-20 12:32:27.023500\n",
       "7         2011-10-20 12:32:27.023583\n",
       "8         2011-10-20 12:32:27.023667\n",
       "9         2011-10-20 12:32:27.023750\n",
       "10        2011-10-20 12:32:27.023833\n",
       "11        2011-10-20 12:32:27.023917\n",
       "12        2011-10-20 12:32:27.024000\n",
       "13        2011-10-20 12:32:27.024083\n",
       "14        2011-10-20 12:32:27.024167\n",
       "15        2011-10-20 12:32:27.024250\n",
       "16        2011-10-20 12:32:27.024333\n",
       "17        2011-10-20 12:32:27.024417\n",
       "18        2011-10-20 12:32:27.024500\n",
       "19        2011-10-20 12:32:27.024583\n",
       "20        2011-10-20 12:32:27.024667\n",
       "21        2011-10-20 12:32:27.024750\n",
       "22        2011-10-20 12:32:27.024833\n",
       "23        2011-10-20 12:32:27.024917\n",
       "24        2011-10-20 12:32:27.025000\n",
       "25        2011-10-20 12:32:27.025083\n",
       "26        2011-10-20 12:32:27.025167\n",
       "27        2011-10-20 12:32:27.025250\n",
       "28        2011-10-20 12:32:27.025333\n",
       "29        2011-10-20 12:32:27.025417\n",
       "                     ...            \n",
       "1189770   2011-10-20 12:34:06.170500\n",
       "1189771   2011-10-20 12:34:06.170583\n",
       "1189772   2011-10-20 12:34:06.170667\n",
       "1189773   2011-10-20 12:34:06.170750\n",
       "1189774   2011-10-20 12:34:06.170833\n",
       "1189775   2011-10-20 12:34:06.170917\n",
       "1189776   2011-10-20 12:34:06.171000\n",
       "1189777   2011-10-20 12:34:06.171083\n",
       "1189778   2011-10-20 12:34:06.171167\n",
       "1189779   2011-10-20 12:34:06.171250\n",
       "1189780   2011-10-20 12:34:06.171333\n",
       "1189781   2011-10-20 12:34:06.171417\n",
       "1189782   2011-10-20 12:34:06.171500\n",
       "1189783   2011-10-20 12:34:06.171583\n",
       "1189784   2011-10-20 12:34:06.171667\n",
       "1189785   2011-10-20 12:34:06.171750\n",
       "1189786   2011-10-20 12:34:06.171833\n",
       "1189787   2011-10-20 12:34:06.171917\n",
       "1189788   2011-10-20 12:34:06.172000\n",
       "1189789   2011-10-20 12:34:06.172083\n",
       "1189790   2011-10-20 12:34:06.172167\n",
       "1189791   2011-10-20 12:34:06.172250\n",
       "1189792   2011-10-20 12:34:06.172333\n",
       "1189793   2011-10-20 12:34:06.172417\n",
       "1189794   2011-10-20 12:34:06.172500\n",
       "1189795   2011-10-20 12:34:06.172583\n",
       "1189796   2011-10-20 12:34:06.172667\n",
       "1189797   2011-10-20 12:34:06.172750\n",
       "1189798   2011-10-20 12:34:06.172833\n",
       "1189799   2011-10-20 12:34:06.172917\n",
       "Name: X_Value, dtype: datetime64[ns]"
      ]
     },
     "execution_count": 25,
     "metadata": {},
     "output_type": "execute_result"
    }
   ],
   "source": [
    "pd.to_datetime('2011-10-20T12:15:29.823') + pd.to_timedelta(data['X_Value']*10e8)"
   ]
  },
  {
   "cell_type": "code",
   "execution_count": null,
   "metadata": {
    "collapsed": true
   },
   "outputs": [],
   "source": []
  }
 ],
 "metadata": {
  "anaconda-cloud": {},
  "kernelspec": {
   "display_name": "Python [Root]",
   "language": "python",
   "name": "Python [Root]"
  }
 },
 "nbformat": 4,
 "nbformat_minor": 0
}
