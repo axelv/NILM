{
 "cells": [
  {
   "cell_type": "code",
   "execution_count": 1,
   "metadata": {
    "collapsed": false
   },
   "outputs": [],
   "source": [
    "import pandas as pd\n",
    "import matplotlib.pyplot\n",
    "import numpy as np\n",
    "\n",
    "class ivSignal(object): \n",
    "    \n",
    "    def __init__(self, i_series, v_series, fs, fs_net=50):\n",
    "        self.v_series = v_series\n",
    "        self.i_series = i_series\n",
    "        self.fs = fs\n",
    "        self.fs_net = fs_net\n",
    "    \n",
    "    def subsample(self, dec_factor = 2):\n",
    "        pass\n",
    "    \n",
    "    def calculateIV(self, window=None):\n",
    "        if window == None:\n",
    "            window = self.fs/self.fs_net\n",
    "            \n",
    "        self.V_series = self.v_series\n",
    "        self.V_series = self.V_series.apply(np.square)\n",
    "        self.V_series = self.V_series.rolling(window=window, center=True).mean()\n",
    "        self.V_series = self.V_series.apply(np.sqrt)\n",
    "        return None\n",
    "    \n",
    "    def calculateFFT(self, start=0, periods=1):\n",
    "        samples_per_period = self.fs/self.fs_net\n",
    "        window = samples_per_period*periods\n",
    "        n = next_pow2(window)\n",
    "        start_i = self._find_zerocrossing(self.v_series[start:])\n",
    "        df = pd.DataFrame()\n",
    "        if not (start_i == None):\n",
    "            v_fourier = 1j*np.fft.fft(self.v_series[start_i:start_i+window], n)/n\n",
    "            i_fourier = 1j*np.fft.fft(self.i_series[start_i:start_i+window], n)/n\n",
    "            v_fourier = np.fft.fftshift(v_fourier)\n",
    "            i_fourier = np.fft.fftshift(i_fourier)\n",
    "            f = np.arange(n)\n",
    "            f = (f-float(n)/2)*self.fs/float(n)\n",
    "            df = pd.DataFrame({'Frequency (Hz)': f, 'Current (A)': i_fourier, 'Voltage (V)' : v_fourier})\n",
    "            df = df.set_index('Frequency (Hz)')\n",
    "        return df\n",
    "    \n",
    "    def calculatePQ(self):\n",
    "        pass\n",
    "    \n",
    "    def calculatePhi(self):\n",
    "        samples_per_cycle = self.fs/self.fs_net\n",
    "        phi = list()\n",
    "        for i in range(0, self.v_series.size, samples_per_cycle):\n",
    "            print(i)\n",
    "            df = self.calculateFFT(start=i, periods=8)\n",
    "            v_fund = df.loc[self.fs_net]['Voltage (V)']\n",
    "            i_fund = df.loc[self.fs_net]['Current (A)']\n",
    "            power_fund = v_fund*i_fund\n",
    "            phi.append(np.arctan(np.imag(power_fund)/np.real(power_fund)))\n",
    "        return pd.Series(phi)\n",
    "    \n",
    "    def _find_zerocrossing(self, series):\n",
    "        for (i, y) in series.iteritems():\n",
    "            if i < series.size:\n",
    "                if not (np.sign(series.iloc[i]) <> np.sign(series.iloc[i+1])):\n",
    "                    return i\n",
    "        return None\n",
    "    \n",
    "    \n",
    "def next_pow2(n):\n",
    "    return int(np.square(np.ceil(np.sqrt(n))))\n",
    "        \n",
    "        "
   ]
  },
  {
   "cell_type": "code",
   "execution_count": null,
   "metadata": {
    "collapsed": true
   },
   "outputs": [],
   "source": []
  }
 ],
 "metadata": {
  "kernelspec": {
   "display_name": "Python [Root]",
   "language": "python",
   "name": "Python [Root]"
  },
  "language_info": {
   "codemirror_mode": {
    "name": "ipython",
    "version": 2
   },
   "file_extension": ".py",
   "mimetype": "text/x-python",
   "name": "python",
   "nbconvert_exporter": "python",
   "pygments_lexer": "ipython2",
   "version": "2.7.12"
  }
 },
 "nbformat": 4,
 "nbformat_minor": 0
}
